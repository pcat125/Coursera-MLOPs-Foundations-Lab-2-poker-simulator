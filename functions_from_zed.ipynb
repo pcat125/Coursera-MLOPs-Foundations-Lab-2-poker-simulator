{
  "nbformat": 4,
  "nbformat_minor": 0,
  "metadata": {
    "colab": {
      "provenance": [],
      "authorship_tag": "ABX9TyNtZUhwFjLRXENdogCKU6Pc",
      "include_colab_link": true
    },
    "kernelspec": {
      "name": "python3",
      "display_name": "Python 3"
    },
    "language_info": {
      "name": "python"
    }
  },
  "cells": [
    {
      "cell_type": "markdown",
      "metadata": {
        "id": "view-in-github",
        "colab_type": "text"
      },
      "source": [
        "<a href=\"https://colab.research.google.com/github/pcat125/Coursera-MLOPs-Foundations-Lab-2-poker-simulator/blob/main/functions_from_zed.ipynb\" target=\"_parent\"><img src=\"https://colab.research.google.com/assets/colab-badge.svg\" alt=\"Open In Colab\"/></a>"
      ]
    },
    {
      "cell_type": "code",
      "execution_count": null,
      "metadata": {
        "id": "8TcoDbsCAVMT"
      },
      "outputs": [],
      "source": []
    },
    {
      "cell_type": "code",
      "source": [],
      "metadata": {
        "id": "BlBXd7LLAiPU"
      },
      "execution_count": null,
      "outputs": []
    },
    {
      "cell_type": "markdown",
      "source": [
        "##Learning Statements\n",
        "\n"
      ],
      "metadata": {
        "id": "w2cX4OejAbJ2"
      }
    },
    {
      "cell_type": "code",
      "source": [
        "print(\"crap_taSTIC WORLD\")"
      ],
      "metadata": {
        "colab": {
          "base_uri": "https://localhost:8080/"
        },
        "id": "ySIzVWw8AkVV",
        "outputId": "94086289-474a-4550-bc87-f3b9be46af74"
      },
      "execution_count": 1,
      "outputs": [
        {
          "output_type": "stream",
          "name": "stdout",
          "text": [
            "crap_taSTIC WORLD\n"
          ]
        }
      ]
    }
  ]
}